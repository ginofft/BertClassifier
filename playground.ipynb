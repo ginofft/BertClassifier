{
 "cells": [
  {
   "cell_type": "code",
   "execution_count": 1,
   "metadata": {},
   "outputs": [],
   "source": [
    "from src.utils import read_json, write_json\n",
    "\n",
    "train = read_json(r\"data\\smartui\\train.json\")\n",
    "val = read_json(r\"data\\smartui\\val.json\")\n",
    "test = read_json(r\"data\\smartui\\test.json\")"
   ]
  },
  {
   "cell_type": "code",
   "execution_count": 2,
   "metadata": {},
   "outputs": [],
   "source": [
    "def get_label_set(*lists):\n",
    "    label_set = {}\n",
    "    count = 0\n",
    "    for current_lst in lists:\n",
    "        for dict in current_lst:\n",
    "            for labels in dict['label']:\n",
    "                if labels not in label_set:\n",
    "                    label_set[labels] = count \n",
    "                    count += 1\n",
    "    return label_set"
   ]
  },
  {
   "cell_type": "code",
   "execution_count": 3,
   "metadata": {},
   "outputs": [],
   "source": [
    "from src.dataset import SentenceLabelDataset\n",
    "\n",
    "label_set = get_label_set(train, test)\n",
    "train_set = SentenceLabelDataset(train, labelSet=label_set)"
   ]
  },
  {
   "cell_type": "code",
   "execution_count": 9,
   "metadata": {},
   "outputs": [
    {
     "data": {
      "text/plain": [
       "{'Work At Home Request': 0,\n",
       " 'oos': 1,\n",
       " 'Firewall Rules Setup': 2,\n",
       " 'New Virtual Machine Request': 3,\n",
       " 'Mobile Email Access': 4,\n",
       " 'Desktop Software Installation Support': 5,\n",
       " 'Working Room Setup': 6}"
      ]
     },
     "execution_count": 9,
     "metadata": {},
     "output_type": "execute_result"
    }
   ],
   "source": [
    "label_set"
   ]
  },
  {
   "cell_type": "code",
   "execution_count": 10,
   "metadata": {},
   "outputs": [
    {
     "data": {
      "text/plain": [
       "{'text': \"Hello! I'm having some difficulty completing a form for a new virtual machine request. Can you lend me a hand?\",\n",
       " 'class': ['New Virtual Machine Request'],\n",
       " 'input_ids': [101,\n",
       "  7592,\n",
       "  999,\n",
       "  1045,\n",
       "  1005,\n",
       "  1049,\n",
       "  2383,\n",
       "  2070,\n",
       "  7669,\n",
       "  7678,\n",
       "  1037,\n",
       "  2433,\n",
       "  2005,\n",
       "  1037,\n",
       "  2047,\n",
       "  7484,\n",
       "  3698,\n",
       "  5227,\n",
       "  1012,\n",
       "  2064,\n",
       "  2017,\n",
       "  18496,\n",
       "  2033,\n",
       "  1037,\n",
       "  2192,\n",
       "  1029,\n",
       "  102],\n",
       " 'attention_mask': [1,\n",
       "  1,\n",
       "  1,\n",
       "  1,\n",
       "  1,\n",
       "  1,\n",
       "  1,\n",
       "  1,\n",
       "  1,\n",
       "  1,\n",
       "  1,\n",
       "  1,\n",
       "  1,\n",
       "  1,\n",
       "  1,\n",
       "  1,\n",
       "  1,\n",
       "  1,\n",
       "  1,\n",
       "  1,\n",
       "  1,\n",
       "  1,\n",
       "  1,\n",
       "  1,\n",
       "  1,\n",
       "  1,\n",
       "  1],\n",
       " 'label': [3]}"
      ]
     },
     "execution_count": 10,
     "metadata": {},
     "output_type": "execute_result"
    }
   ],
   "source": [
    "train_set[15]"
   ]
  }
 ],
 "metadata": {
  "kernelspec": {
   "display_name": "Python 3.9.13 ('venv': venv)",
   "language": "python",
   "name": "python3"
  },
  "language_info": {
   "codemirror_mode": {
    "name": "ipython",
    "version": 3
   },
   "file_extension": ".py",
   "mimetype": "text/x-python",
   "name": "python",
   "nbconvert_exporter": "python",
   "pygments_lexer": "ipython3",
   "version": "3.9.13"
  },
  "orig_nbformat": 4,
  "vscode": {
   "interpreter": {
    "hash": "fd54f67d8d318272b679dbff45f14b42d3d41845c2356629fe78855dd2b49e7c"
   }
  }
 },
 "nbformat": 4,
 "nbformat_minor": 2
}
