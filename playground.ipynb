{
 "cells": [
  {
   "cell_type": "code",
   "execution_count": 1,
   "metadata": {},
   "outputs": [],
   "source": [
    "from src.utils import read_json\n",
    "import json\n",
    "import random\n",
    "\n",
    "original_data = read_json('data/smartui/data_oos.json')\n",
    "\n",
    "# Calculate the sizes for each dataset\n",
    "total_size = len(original_data)\n",
    "train_size = int(0.7 * total_size)\n",
    "valid_size = int(0.2 * total_size)\n",
    "test_size = total_size - train_size - valid_size\n",
    "\n",
    "# Split the shuffled data into train, validation, and test datasets\n",
    "train_data = original_data[:train_size]\n",
    "valid_data = original_data[train_size:train_size + valid_size]\n",
    "test_data = original_data[train_size + valid_size:]\n",
    "\n",
    "# Save each dataset into separate JSON files with the new format\n",
    "def convert_to_new_format(data):\n",
    "    new_data = []\n",
    "    for item in data:\n",
    "        new_item = {\n",
    "            \"dialog\": item[\"dialog\"],\n",
    "            \"label\": [item[\"label\"]]\n",
    "        }\n",
    "        new_data.append(new_item)\n",
    "    return new_data\n",
    "\n",
    "train_data_new_format = convert_to_new_format(train_data)\n",
    "valid_data_new_format = convert_to_new_format(valid_data)\n",
    "test_data_new_format = convert_to_new_format(test_data)\n",
    "\n",
    "with open('train.json', 'w') as f:\n",
    "    json.dump(train_data_new_format, f, indent=4)\n",
    "\n",
    "with open('val.json', 'w') as f:\n",
    "    json.dump(valid_data_new_format, f, indent=4)\n",
    "\n",
    "with open('test.json', 'w') as f:\n",
    "    json.dump(test_data_new_format, f, indent=4)"
   ]
  },
  {
   "cell_type": "code",
   "execution_count": 1,
   "metadata": {},
   "outputs": [],
   "source": [
    "from src.utils import read_json, write_json\n",
    "\n",
    "train = read_json(r\"data\\smartui\\train.json\")\n",
    "val = read_json(r\"data\\smartui\\val.json\")\n",
    "test = read_json(r\"data\\smartui\\test.json\")"
   ]
  },
  {
   "cell_type": "code",
   "execution_count": 2,
   "metadata": {},
   "outputs": [],
   "source": [
    "def get_label_set(*lists):\n",
    "    label_set = {}\n",
    "    count = 0\n",
    "    for current_lst in lists:\n",
    "        for dict in current_lst:\n",
    "            for labels in dict['label']:\n",
    "                if labels not in label_set:\n",
    "                    label_set[labels] = count \n",
    "                    count += 1\n",
    "    return label_set"
   ]
  },
  {
   "cell_type": "code",
   "execution_count": 3,
   "metadata": {},
   "outputs": [],
   "source": [
    "from src.dataset import SentenceLabelDataset\n",
    "\n",
    "label_set = get_label_set(train, test)\n",
    "train_set = SentenceLabelDataset(train, labelSet=label_set)"
   ]
  },
  {
   "cell_type": "code",
   "execution_count": 4,
   "metadata": {},
   "outputs": [
    {
     "data": {
      "text/plain": [
       "{'Firewall Rules Setup': 0,\n",
       " 'Event Support Request Form': 1,\n",
       " 'Work At Home Request': 2,\n",
       " 'Windows Domain Service Request': 3,\n",
       " 'Add/Update/Delete DNS': 4,\n",
       " 'oos': 5}"
      ]
     },
     "execution_count": 4,
     "metadata": {},
     "output_type": "execute_result"
    }
   ],
   "source": [
    "label_set"
   ]
  },
  {
   "cell_type": "code",
   "execution_count": 5,
   "metadata": {},
   "outputs": [
    {
     "data": {
      "text/plain": [
       "{'text': \"Hey, I'm having trouble with the firewall rules configuration. Can you lend me a hand with the Firewall Rules Setup request?\",\n",
       " 'class': ['Firewall Rules Setup'],\n",
       " 'input_ids': [101,\n",
       "  4931,\n",
       "  1010,\n",
       "  1045,\n",
       "  1005,\n",
       "  1049,\n",
       "  2383,\n",
       "  4390,\n",
       "  2007,\n",
       "  1996,\n",
       "  2543,\n",
       "  9628,\n",
       "  3513,\n",
       "  9563,\n",
       "  1012,\n",
       "  2064,\n",
       "  2017,\n",
       "  18496,\n",
       "  2033,\n",
       "  1037,\n",
       "  2192,\n",
       "  2007,\n",
       "  1996,\n",
       "  2543,\n",
       "  9628,\n",
       "  3513,\n",
       "  16437,\n",
       "  5227,\n",
       "  1029,\n",
       "  102],\n",
       " 'attention_mask': [1,\n",
       "  1,\n",
       "  1,\n",
       "  1,\n",
       "  1,\n",
       "  1,\n",
       "  1,\n",
       "  1,\n",
       "  1,\n",
       "  1,\n",
       "  1,\n",
       "  1,\n",
       "  1,\n",
       "  1,\n",
       "  1,\n",
       "  1,\n",
       "  1,\n",
       "  1,\n",
       "  1,\n",
       "  1,\n",
       "  1,\n",
       "  1,\n",
       "  1,\n",
       "  1,\n",
       "  1,\n",
       "  1,\n",
       "  1,\n",
       "  1,\n",
       "  1,\n",
       "  1],\n",
       " 'label': [0]}"
      ]
     },
     "execution_count": 5,
     "metadata": {},
     "output_type": "execute_result"
    }
   ],
   "source": [
    "train_set[0]"
   ]
  }
 ],
 "metadata": {
  "kernelspec": {
   "display_name": "Python 3.9.13 ('venv': venv)",
   "language": "python",
   "name": "python3"
  },
  "language_info": {
   "codemirror_mode": {
    "name": "ipython",
    "version": 3
   },
   "file_extension": ".py",
   "mimetype": "text/x-python",
   "name": "python",
   "nbconvert_exporter": "python",
   "pygments_lexer": "ipython3",
   "version": "3.9.13"
  },
  "orig_nbformat": 4,
  "vscode": {
   "interpreter": {
    "hash": "fd54f67d8d318272b679dbff45f14b42d3d41845c2356629fe78855dd2b49e7c"
   }
  }
 },
 "nbformat": 4,
 "nbformat_minor": 2
}
