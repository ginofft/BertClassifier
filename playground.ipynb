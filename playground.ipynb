{
 "cells": [
  {
   "cell_type": "code",
   "execution_count": 6,
   "metadata": {},
   "outputs": [],
   "source": [
    "from src.utils import read_json, write_json\n",
    "\n",
    "train = read_json(r\"data\\smartui\\train.json\")\n",
    "val = read_json(r\"data\\smartui\\val.json\")\n",
    "test = read_json(r\"data\\smartui\\test.json\")\n"
   ]
  },
  {
   "cell_type": "code",
   "execution_count": 9,
   "metadata": {},
   "outputs": [],
   "source": [
    "def temp_func(*list):\n",
    "    for current_lst in list:\n",
    "        for data in current_lst:\n",
    "            data['label'] = [data['label']]\n",
    "\n",
    "temp_func(train, val,test)"
   ]
  },
  {
   "cell_type": "code",
   "execution_count": 12,
   "metadata": {},
   "outputs": [],
   "source": [
    "write_json(r\"data\\smartui\\train.json\", train)\n",
    "write_json(r\"data\\smartui\\val.json\", val)\n",
    "write_json(r\"data\\smartui\\test.json\", test)"
   ]
  },
  {
   "cell_type": "code",
   "execution_count": 2,
   "metadata": {},
   "outputs": [],
   "source": [
    "def get_label_set(*lists):\n",
    "    label_set = {}\n",
    "    count = 0\n",
    "    for current_lst in lists:\n",
    "        for dict in current_lst:\n",
    "            if dict['label'] not in label_set:\n",
    "                label_set[dict['label']] = count\n",
    "                count += 1\n",
    "    return label_set\n",
    "\n",
    "def get_trainset_from_smartui(train):\n",
    "    tmp = train[0]\n",
    "    if ('dialog' not in tmp) or ('label' not in tmp):\n",
    "        raise Exception(\"{train} does not have the correct format!!\")\n",
    "    train_set = []\n",
    "    for dict in train:\n",
    "        labels = [dict['label']]\n",
    "        train_set.append([dict['dialog'], labels])\n",
    "    return train_set\n",
    "\n",
    "label_set = get_label_set(train, val)\n",
    "train_set = get_trainset_from_smartui(train)"
   ]
  },
  {
   "cell_type": "code",
   "execution_count": 3,
   "metadata": {},
   "outputs": [],
   "source": [
    "from src.dataset import SentenceLabelDataset\n",
    "\n",
    "train_set = SentenceLabelDataset(train_set, labelSet=label_set)"
   ]
  },
  {
   "cell_type": "code",
   "execution_count": 9,
   "metadata": {},
   "outputs": [
    {
     "data": {
      "text/plain": [
       "{'text': \"I'm unsure of how to fill out the New Virtual Machine Request. Can you assist me?\",\n",
       " 'class': ['New Virtual Machine Request'],\n",
       " 'input_ids': [101,\n",
       "  1045,\n",
       "  1005,\n",
       "  1049,\n",
       "  12422,\n",
       "  1997,\n",
       "  2129,\n",
       "  2000,\n",
       "  6039,\n",
       "  2041,\n",
       "  1996,\n",
       "  2047,\n",
       "  7484,\n",
       "  3698,\n",
       "  5227,\n",
       "  1012,\n",
       "  2064,\n",
       "  2017,\n",
       "  6509,\n",
       "  2033,\n",
       "  1029,\n",
       "  102],\n",
       " 'attention_mask': [1,\n",
       "  1,\n",
       "  1,\n",
       "  1,\n",
       "  1,\n",
       "  1,\n",
       "  1,\n",
       "  1,\n",
       "  1,\n",
       "  1,\n",
       "  1,\n",
       "  1,\n",
       "  1,\n",
       "  1,\n",
       "  1,\n",
       "  1,\n",
       "  1,\n",
       "  1,\n",
       "  1,\n",
       "  1,\n",
       "  1,\n",
       "  1],\n",
       " 'label': [3]}"
      ]
     },
     "execution_count": 9,
     "metadata": {},
     "output_type": "execute_result"
    }
   ],
   "source": [
    "train_set[85]"
   ]
  }
 ],
 "metadata": {
  "kernelspec": {
   "display_name": "Python 3.9.13 ('venv': venv)",
   "language": "python",
   "name": "python3"
  },
  "language_info": {
   "codemirror_mode": {
    "name": "ipython",
    "version": 3
   },
   "file_extension": ".py",
   "mimetype": "text/x-python",
   "name": "python",
   "nbconvert_exporter": "python",
   "pygments_lexer": "ipython3",
   "version": "3.9.13"
  },
  "orig_nbformat": 4,
  "vscode": {
   "interpreter": {
    "hash": "fd54f67d8d318272b679dbff45f14b42d3d41845c2356629fe78855dd2b49e7c"
   }
  }
 },
 "nbformat": 4,
 "nbformat_minor": 2
}
