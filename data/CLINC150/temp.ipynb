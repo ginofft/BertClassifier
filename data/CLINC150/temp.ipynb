{
 "cells": [
  {
   "cell_type": "code",
   "execution_count": 4,
   "metadata": {},
   "outputs": [],
   "source": [
    "import json\n",
    "from pathlib import Path\n",
    "from typing import List, Tuple\n",
    "import json\n",
    "\n",
    "def read_MixSNIPs_file(filePath) -> List[Tuple[str, List[str]]]:\n",
    "    \"\"\"read MixSNIPs file into a list of tuple, whose element is: sentence, [label]\n",
    "\n",
    "    Return\n",
    "    -------\n",
    "    list : List[Tuple[str, List[str]]]\n",
    "        A list of tuple, whose are: a sentence and a list of labels\n",
    "    \"\"\"\n",
    "    texts, slots, intents = [], [], []\n",
    "    text, slot = [], []\n",
    "    with open(filePath, 'r', encoding=\"utf8\") as fr:\n",
    "        for line in fr.readlines():\n",
    "            items = line.strip().split()\n",
    "            if len(items) == 1:\n",
    "                texts.append(text)\n",
    "                slots.append(slot)\n",
    "                if \"/\" not in items[0]:\n",
    "                    intents.append(items)\n",
    "                else:\n",
    "                    new = items[0].split(\"/\")\n",
    "                    intents.append([new[1]])\n",
    "                # clear buffer lists.\n",
    "                text, slot = [], []\n",
    "            elif len(items) == 2:\n",
    "                text.append(items[0].strip())\n",
    "                slot.append(items[1].strip())\n",
    "    sentences = []\n",
    "    labels = []\n",
    "    space = ' '\n",
    "    for i, txt in enumerate(texts):\n",
    "        sentences.append(space.join(txt))\n",
    "        \n",
    "        intent_instance = intents[i][0]\n",
    "        if '#' in intent_instance:\n",
    "            label = intent_instance.split('#')\n",
    "        else:\n",
    "            label = [intent_instance]\n",
    "        labels.append(label)\n",
    "    return list(zip(sentences, labels))\n",
    "\n",
    "def read_CLINC150_file(filePath):\n",
    "    \"\"\"Return a dictionary from json file, where each keys contain a list.\n",
    "    \"\"\"\n",
    "    with open(filePath, 'r') as f:\n",
    "        dataDict = json.load(f)\n",
    "    print('The keys found in this json are: ', dataDict.keys())\n",
    "    return dataDict\n",
    "\n",
    "def get_label_set(*lists):\n",
    "    \"\"\"Return a List[str] of label, used to map 'label' into indices.\n",
    "    \"\"\"\n",
    "    labelSet = []\n",
    "    for currentList in lists:\n",
    "        for sentence, labels in currentList:\n",
    "            for label in labels:\n",
    "                if label not in labelSet:\n",
    "                    labelSet.append(label)\n",
    "    return labelSet\n",
    "\n",
    "def turn_single_label_to_multilabels(*lists):\n",
    "    for l in lists:\n",
    "        for element in l:\n",
    "            element[1] = [element[1]]\n"
   ]
  },
  {
   "cell_type": "code",
   "execution_count": 5,
   "metadata": {},
   "outputs": [
    {
     "name": "stdout",
     "output_type": "stream",
     "text": [
      "The keys found in this json are:  dict_keys(['oos_val', 'val', 'train', 'oos_test', 'test', 'oos_train'])\n"
     ]
    }
   ],
   "source": [
    "dataDict = read_CLINC150_file('data_oos_plus.json')\n",
    "trainList = dataDict['train'] + dataDict['oos_train']\n",
    "valList = dataDict['val'] + dataDict['oos_val']\n",
    "testList = dataDict['test'] + dataDict['oos_test']\n",
    "turn_single_label_to_multilabels(trainList, valList, testList)"
   ]
  },
  {
   "cell_type": "code",
   "execution_count": 10,
   "metadata": {},
   "outputs": [],
   "source": [
    "with open('train.json', 'w') as f:\n",
    "    json.dump(trainList, f, indent=4)\n",
    "with open('val.json', 'w') as f:\n",
    "    json.dump(valList, f, indent=4)\n",
    "with open('test.json', 'w') as f:\n",
    "    json.dump(testList, f, indent=4)"
   ]
  }
 ],
 "metadata": {
  "kernelspec": {
   "display_name": "venv",
   "language": "python",
   "name": "python3"
  },
  "language_info": {
   "codemirror_mode": {
    "name": "ipython",
    "version": 3
   },
   "file_extension": ".py",
   "mimetype": "text/x-python",
   "name": "python",
   "nbconvert_exporter": "python",
   "pygments_lexer": "ipython3",
   "version": "3.9.13"
  },
  "orig_nbformat": 4
 },
 "nbformat": 4,
 "nbformat_minor": 2
}
